{
 "cells": [
  {
   "cell_type": "markdown",
   "id": "ff28b3d6",
   "metadata": {},
   "source": [
    "## Problema dos voos/Flight problem\n",
    "PT: Seis pessoas precisam sair de diferentes Estados e chegar ao aeroporto de Guarulhos (GRU) em São Paulo. Chegando lá, elas alugarão um carro e dividirão os custos. Para cada pessoa existe dez voos possíveis durante o dia. Dessa forma, qual é a melhor combinação de horários de partida para que os primeiros a chegar não esperem por muito tempo e o custo total seja minimizado?\n",
    "Em relação ao retorno para os Estados de origem, qual o melhor horário de partida do aeroporto de Guarulhos para que os últimos a partirem esperem o mínimo possível?      \n",
    "Utilizando os algoritmos a seguir encontramos boas soluções.    \n",
    "Considerações do problema:       \n",
    "Penalidade de atraso de devolução do veículo (caso o veículo seja devolvido no dia posterior ao dia do aluguel): aumento de 50 unidades     \n",
    "Tempo de espera: 1 unidade por minuto    \n",
    "\n",
    "EN: Six people need to leave different states and arrive at Guarulhos airport (GRU) in São Paulo. Once there, they will rent a car and share the costs. For each person there are ten possible flights during the day. So what is the best combination of departure times so that first-timers don't wait too long and the total cost is minimized? Regarding the return to the States of origin, what is the best time of departure from Guarulhos airport so that the last ones to depart wait as little as possible?     \n",
    "Using the following algorithms we found good solutions.    \n",
    "Problem considerations:     \n",
    "Penalty for late return of the vehicle (if the vehicle is returned the day after the rental day): increase of 50 units    \n",
    "Standby time: 1 unit per minute     \n",
    " "
   ]
  },
  {
   "cell_type": "code",
   "execution_count": 1,
   "id": "6bfd123e",
   "metadata": {},
   "outputs": [],
   "source": [
    "import random\n",
    "import time\n",
    "import math"
   ]
  },
  {
   "cell_type": "markdown",
   "id": "d0093499",
   "metadata": {},
   "source": [
    "### Organizando os dados do problema."
   ]
  },
  {
   "cell_type": "code",
   "execution_count": 2,
   "id": "7b8c252c",
   "metadata": {
    "scrolled": true
   },
   "outputs": [],
   "source": [
    "pessoas=[('Amanda','CWB'), #Criamos uma lista com tuplas contendo (nome, origem) para cada pessoa.\n",
    "        ('Pedro','GIG'),\n",
    "         ('Marcos','POA'),\n",
    "        ('Priscila','FLN'),\n",
    "        ('Jessy','CNF'),\n",
    "        ('Paulo','GYN')]\n",
    "\n",
    "destino='GRU' #Local de destino\n",
    "\n"
   ]
  },
  {
   "cell_type": "code",
   "execution_count": 3,
   "id": "65634f81",
   "metadata": {},
   "outputs": [],
   "source": [
    "voos={} #Criamos um dicionário vazio.\n",
    "for linha in open('voos.txt'): #criamos um laço de repetição para organizar os voos em dicionário.\n",
    "    _origem,_destino,_saida,_chegada,_preço=linha.split(',') #criamos variáveis e armazenamos os valores para cada váriável separada por virgula no txt\n",
    "    voos.setdefault((_origem,_destino),[])#Inserimos a chave (origem,destino no dicionario e uma lista vazia) \n",
    "    voos[_origem,_destino].append((_saida,_chegada,int(_preço))) #adicionamos os valores horario de partida, chegada e custo da passagem na chave.\n",
    "#voos"
   ]
  },
  {
   "cell_type": "code",
   "execution_count": 4,
   "id": "82553f70",
   "metadata": {},
   "outputs": [],
   "source": [
    "agenda=[1,3, 5,2, 7,3 , 6,8, 1,4,  0,3 ] \n",
    "# As soluções serão em formato de lista em que cada numero (entre 0 e 9) corresponde o voo de ida e volta de uma pessoa\n",
    "#Exemplo: A primeira pessoa (Amanda) pega o segundo voo de ida e o quarto voo de volta na solução arbitrária acima"
   ]
  },
  {
   "cell_type": "code",
   "execution_count": 5,
   "id": "7f63b7dd",
   "metadata": {},
   "outputs": [
    {
     "name": "stdout",
     "output_type": "stream",
     "text": [
      "Amanda CWB\n",
      "Pedro GIG\n",
      "Marcos POA\n",
      "Priscila FLN\n",
      "Jessy CNF\n",
      "Paulo GYN\n"
     ]
    }
   ],
   "source": [
    "#Ordem das pessoas na solução\n",
    "for i in range(len(pessoas)):\n",
    "    print(pessoas[i][0],pessoas[i][1])"
   ]
  },
  {
   "cell_type": "code",
   "execution_count": 6,
   "id": "c3e09f63",
   "metadata": {},
   "outputs": [
    {
     "name": "stdout",
     "output_type": "stream",
     "text": [
      "    Amanda       CWB  8:04-10:11 R$ 95 10:33-12:03 R$ 74\n",
      "     Pedro       GIG 13:54-18:02 R$294  9:49-13:51 R$229\n",
      "    Marcos       POA 17:08-19:08 R$262 10:32-13:16 R$139\n",
      "  Priscila       FLN 15:34-18:11 R$326 18:07-21:30 R$355\n",
      "     Jessy       CNF  8:25-10:34 R$157 12:08-14:47 R$231\n",
      "     Paulo       GYN  6:11- 8:31 R$249 11:07-13:24 R$171\n"
     ]
    }
   ],
   "source": [
    "#Criamos uma função para imprimir a solução de maneira agradável\n",
    "def imprimir_agenda(agenda):\n",
    "    id_voo=-1\n",
    "    for i in range(len(agenda)//2):#Como len(agenda)//2=6 pessoas, pegamos o indice da ida e da volta para cada um.\n",
    "        nome=pessoas[i][0] #Para cada pessoa\n",
    "        origem=pessoas[i][1] #para cada origem\n",
    "        id_voo+=1 #incrementamos 1 para ir para o proximo índice, percorrendo a lista da solução\n",
    "        ida=voos[(origem,destino)][agenda[id_voo]] #vou no dicionario voos, na chave origem e destino, pego o indice de numero que está na solução\n",
    "        id_voo+=1 #incrimentamos 1 e vamos para o proximo indice da solução\n",
    "        volta=voos[(destino,origem)][agenda[id_voo]] #pegamos o indice que ocupa a posição atual que corresponde ao voo de volta para a pessoa\n",
    "        print('%10s%10s %5s-%5s R$%3s %5s-%5s R$%3s'%(nome,origem,ida[0],ida[1],ida[2],volta[0],volta[1],volta[2]))\n",
    "imprimir_agenda(agenda)"
   ]
  },
  {
   "cell_type": "code",
   "execution_count": 7,
   "id": "a77e6861",
   "metadata": {},
   "outputs": [],
   "source": [
    "def get_minutos(hora): #convertendo hora pra minutos\n",
    "    x=time.strptime(hora,'%H:%M')\n",
    "    minutos=x[3]*60+x[4]\n",
    "    return minutos"
   ]
  },
  {
   "cell_type": "markdown",
   "id": "751742bf",
   "metadata": {},
   "source": [
    "### Definindo a função custo"
   ]
  },
  {
   "cell_type": "code",
   "execution_count": 8,
   "id": "43dec436",
   "metadata": {},
   "outputs": [],
   "source": [
    "def funcao_custo(solucao):\n",
    "    preco_total=0\n",
    "    ultima_chegada=0 #em minutos 00:00\n",
    "    primeira_partida=1439 #primeira partida, na volta, proximo de meia noite, visto que tal horário corresponderia a 0 min.\n",
    "    id_voo=-1\n",
    "    for i in range(len(solucao)//2):\n",
    "        origem=pessoas[i][1] #Pego a origem da cada pessoa\n",
    "        id_voo+=1 \n",
    "        ida=voos[(origem, destino)][solucao[id_voo]] #vou no diciario voos(origem de cada, GRU sp) e procuro pelo indice que esta na posição 0\n",
    "        id_voo+=1\n",
    "        volta=voos[(destino,origem)][solucao[id_voo]] #pego o preço da volta na chave da solução\n",
    "        preco_total+=ida[2] #Incrementamos a o valor da ida\n",
    "        preco_total+=volta[2] #Incrementamos o valor da volta\n",
    "        if ultima_chegada<get_minutos(ida[1]): #estrutura condicional para controlar a ultima chegada\n",
    "            ultima_chegada=get_minutos(ida[1]) #ultima pessoa a chegar\n",
    "        if primeira_partida>get_minutos(volta[0]):#estrutura condicional para controlar a primeira partida, na volta\n",
    "            primeira_partida=get_minutos(volta[0]) #primeira partida, na volta\n",
    "    id_voo=-1\n",
    "    total_espera=0 #espera em minutos. OBS: cada minuto aumenta 1 unidade no custo.\n",
    "    for i in range(len(solucao)//2): #Laço de repetição para calcular o custo de espera.\n",
    "        origem=pessoas[i][1]\n",
    "        id_voo+=1\n",
    "        ida=voos[(origem, destino)][solucao[id_voo]]\n",
    "        id_voo+=1\n",
    "        volta=voos[(destino,origem)][solucao[id_voo]]\n",
    "        total_espera+=ultima_chegada - get_minutos(ida[1])\n",
    "        total_espera+=get_minutos(volta[0])-primeira_partida\n",
    "    if ultima_chegada>primeira_partida: #Penalidade no aluguel do veículo\n",
    "        preco_total+=50 #Incrementa 50 unidades no preço total\n",
    "    return preco_total+total_espera #retorna o preço total + preço da espera"
   ]
  },
  {
   "cell_type": "code",
   "execution_count": 9,
   "id": "8453a833",
   "metadata": {},
   "outputs": [
    {
     "name": "stdout",
     "output_type": "stream",
     "text": [
      "5245. Não foi um bom custo\n"
     ]
    }
   ],
   "source": [
    "print(f'{funcao_custo(agenda)}. Não foi um bom custo') #calculando o custo da solução arbitraria"
   ]
  },
  {
   "cell_type": "markdown",
   "id": "7810d573",
   "metadata": {},
   "source": [
    "### Organizando o domínio do problema"
   ]
  },
  {
   "cell_type": "code",
   "execution_count": 10,
   "id": "309993c4",
   "metadata": {},
   "outputs": [],
   "source": [
    "dominio=[(0,9)]*len(pessoas)*2 #uma lista de 12 itens que será utilizada para pesquisar qual voo de ida e volta cada pessoa pegará"
   ]
  },
  {
   "cell_type": "markdown",
   "id": "9582d74f",
   "metadata": {},
   "source": [
    "### Algoritmo de Pesquisa Randômica\n",
    "Este algoritmo gera soluções randômicas e escolhe a que possui menor custo, neste caso."
   ]
  },
  {
   "cell_type": "code",
   "execution_count": 17,
   "id": "88d00a55",
   "metadata": {},
   "outputs": [],
   "source": [
    "def pesquisa_randomica(dominio,funcao_custo):\n",
    "    melhor_custo=9999999 #Colocamos um valor alto para logo ser substituido\n",
    "    for i in range(0,100000): #Gerando 100 000 soluções randômicas\n",
    "        solucao=[random.randint(dominio[i][0],dominio[i][1]) for i in range(len(dominio))]\n",
    "        custo=funcao_custo(solucao) #calculando o custo de cada uma\n",
    "        if custo<melhor_custo: #estrutura condicional para selecionar o menor custo\n",
    "            melhor_custo=custo \n",
    "            melhor_solucao=solucao\n",
    "   \n",
    "    return melhor_solucao #retorna a solução em formato de lista\n",
    "        "
   ]
  },
  {
   "cell_type": "code",
   "execution_count": 18,
   "id": "f58d0d88",
   "metadata": {},
   "outputs": [
    {
     "name": "stdout",
     "output_type": "stream",
     "text": [
      "    Amanda       CWB  9:45-11:50 R$172  9:58-11:18 R$130\n",
      "     Pedro       GIG 10:30-14:57 R$290  9:49-13:51 R$229\n",
      "    Marcos       POA 10:53-13:36 R$189  8:19-11:16 R$122\n",
      "  Priscila       FLN 11:28-14:40 R$248  6:33- 9:14 R$172\n",
      "     Jessy       CNF 11:01-12:39 R$260  7:50-10:08 R$164\n",
      "     Paulo       GYN 12:18-14:56 R$172  8:04-10:59 R$136\n"
     ]
    }
   ],
   "source": [
    "solucao_randomica=pesquisa_randomica(dominio,funcao_custo) #Rodando o algoritmo\n",
    "imprimir_agenda(solucao_randomica) #Imprimindo a solução de menor custo"
   ]
  },
  {
   "cell_type": "code",
   "execution_count": 19,
   "id": "cc7aee79",
   "metadata": {},
   "outputs": [
    {
     "name": "stdout",
     "output_type": "stream",
     "text": [
      "Comparação de custos; Custo da solução inicial (agenda): 5245, Custo da solução randomica: 3433\n"
     ]
    }
   ],
   "source": [
    "custo_solucao_randomica=funcao_custo(solucao_randomica) #calculando o valor da solução encontrada\n",
    "print(f'Comparação de custos; Custo da solução inicial (agenda): {funcao_custo(agenda)}, Custo da solução randomica: {custo_solucao_randomica}')"
   ]
  },
  {
   "cell_type": "markdown",
   "id": "b42196b1",
   "metadata": {},
   "source": [
    "### Algoritmo Subida de Encosta\n",
    "Este algoritmo encontra os mínimos e máximos locais. Sendo assim utilizarei como solução inicial a solução encontrada na pesquisa randomica \"solucao_randomica\". Para cada valor nos indices da solução (x), serão geradas duas listas (vizinhos) com o valor alterado da seguinte forma:    \n",
    "vizinhos=[[x+1, ...],[x-1, ...], [x, y+1,..],[x,y-1,...],...].    \n",
    "O algoritmo calcula o custo de cada solução e substitui a solucao incial por uma de menor custo e utiliza a nova solução como canditado à minimização, até que um minimo local seja encontrado."
   ]
  },
  {
   "cell_type": "code",
   "execution_count": 20,
   "id": "ae15d5ed",
   "metadata": {},
   "outputs": [],
   "source": [
    "def subida_encosta(dominio, funcao_custo):\n",
    "    solucao=solucao_randomica\n",
    "    while True:\n",
    "        vizinhos=[]\n",
    "        for i in range(len(dominio)):\n",
    "            if solucao[i]>dominio[i][0]: #Estrutura de controle para somar ou subtrair 1 e manter o dominio correto\n",
    "                if solucao[i]!=dominio[i][1]: #se o valor for diferente de 9 somamos 1\n",
    "                    vizinhos.append(solucao[0:i]+[solucao[i]+1]+solucao[i+1:])\n",
    "            if solucao[i]<dominio[i][1]:\n",
    "                if solucao[i]!=dominio[i][0]: #se o valor for diferente de 0 subtraimos 1\n",
    "                    vizinhos.append(solucao[0:i]+[solucao[i]-1]+solucao[i+1:])\n",
    "        atual=funcao_custo(solucao)\n",
    "        melhor=atual\n",
    "        for i in range(len(vizinhos)):\n",
    "            custo=funcao_custo(vizinhos[i])\n",
    "            if custo<melhor:\n",
    "                melhor=custo\n",
    "                solucao=vizinhos[i]\n",
    "        if melhor==atual:\n",
    "            break\n",
    "    return solucao\n",
    "    "
   ]
  },
  {
   "cell_type": "code",
   "execution_count": 21,
   "id": "2bedbdc1",
   "metadata": {},
   "outputs": [
    {
     "name": "stdout",
     "output_type": "stream",
     "text": [
      "    Amanda       CWB 12:34-15:02 R$109  6:39- 8:09 R$ 86\n",
      "     Pedro       GIG 10:30-14:57 R$290  9:49-13:51 R$229\n",
      "    Marcos       POA 12:08-14:59 R$149  8:19-11:16 R$122\n",
      "  Priscila       FLN 11:28-14:40 R$248  6:33- 9:14 R$172\n",
      "     Jessy       CNF 12:44-14:17 R$134  7:50-10:08 R$164\n",
      "     Paulo       GYN 12:18-14:56 R$172  8:04-10:59 R$136\n"
     ]
    }
   ],
   "source": [
    "solucao_subida_encosta=subida_encosta(dominio,funcao_custo)\n",
    "imprimir_agenda(solucao_subida_encosta)"
   ]
  },
  {
   "cell_type": "code",
   "execution_count": 26,
   "id": "625df577",
   "metadata": {},
   "outputs": [],
   "source": [
    "custo_subida_encosta=funcao_custo(solucao_subida_encosta)"
   ]
  },
  {
   "cell_type": "code",
   "execution_count": 27,
   "id": "3a68e0d0",
   "metadata": {},
   "outputs": [
    {
     "name": "stdout",
     "output_type": "stream",
     "text": [
      "2618\n"
     ]
    }
   ],
   "source": [
    "print(custo_subida_encosta)"
   ]
  },
  {
   "cell_type": "code",
   "execution_count": 24,
   "id": "258c45ab",
   "metadata": {},
   "outputs": [
    {
     "name": "stdout",
     "output_type": "stream",
     "text": [
      "Custo da solução subida de encosta: 2618, pesquisa randomica:3433, solucao inicial:5245\n"
     ]
    }
   ],
   "source": [
    "print(f'Custo da solução subida de encosta: {custo_subida_encosta}, pesquisa randomica:{custo_solucao_randomica}, solucao inicial:{funcao_custo(agenda)}')"
   ]
  },
  {
   "cell_type": "markdown",
   "id": "09089a23",
   "metadata": {},
   "source": [
    "### Algoritmo de Recozimento Simulado\n",
    "Algoritmo de busca local probabilística, análogo a processos termodinâmicos.      \n",
    "[Simulated Annealing](https://pt.wikipedia.org/wiki/Simulated_annealing)     \n",
    "Pegaremos várias soluções em direções aleatórias a fim de encontrar a melhor solução."
   ]
  },
  {
   "cell_type": "code",
   "execution_count": 34,
   "id": "64c9994c",
   "metadata": {},
   "outputs": [],
   "source": [
    "def tempera_simulada(dominio,funcao_custo,temperatura=10000.0,resfriamento=0.95,passo=1):\n",
    "    solucao=[random.randint(dominio[i][0],dominio[i][1]) for i in range(len(dominio))] #iniciamos uma solucao aleatoria\n",
    "    while temperatura>0.1:\n",
    "        i=random.randint(0,len(dominio)-1)\n",
    "        direcao=random.randint(-passo,passo) #geramos numeros aleatorios: 1 ou -1\n",
    "        solucao_temp=solucao[:]\n",
    "        solucao_temp[i]+=direcao #incremento +1 ou decremento 1 no indice i atual\n",
    "        if solucao_temp[i]<dominio[i][0]: #estrutura de controle do dominio.\n",
    "             solucao_temp[i]=dominio[i][0]\n",
    "        elif solucao_temp[i]>dominio[i][1]:\n",
    "             solucao_temp[i]=dominio[i][1]\n",
    "        custo_solucao=funcao_custo(solucao)\n",
    "        custo_solucao_temp=funcao_custo(solucao_temp)\n",
    "        probabilidade=pow(math.e,(-custo_solucao_temp-custo_solucao)/temperatura) #formula do algoritmo para redução de probabilidade de aceitar soluções inadequadas\n",
    "        if (custo_solucao_temp<custo_solucao or random.random()<probabilidade): #permitimos que ele pegue soluções um pouco pior do que a atual.\n",
    "            solucao=solucao_temp\n",
    "        temperatura=temperatura*resfriamento #faz o resfriamento\n",
    "    return solucao\n",
    "    \n",
    "            "
   ]
  },
  {
   "cell_type": "code",
   "execution_count": 43,
   "id": "72cddffa",
   "metadata": {},
   "outputs": [
    {
     "name": "stdout",
     "output_type": "stream",
     "text": [
      "    Amanda       CWB 17:11-18:30 R$108  8:23-10:28 R$149\n",
      "     Pedro       GIG 10:30-14:57 R$290  9:49-13:51 R$229\n",
      "    Marcos       POA 17:08-19:08 R$262  8:19-11:16 R$122\n",
      "  Priscila       FLN 15:34-18:11 R$326 20:27-23:42 R$169\n",
      "     Jessy       CNF 15:58-18:40 R$173 10:33-13:11 R$132\n",
      "     Paulo       GYN 16:51-19:09 R$147  8:04-10:59 R$136\n"
     ]
    }
   ],
   "source": [
    "imprimir_agenda(tempera_simulada(dominio,funcao_custo))"
   ]
  },
  {
   "cell_type": "code",
   "execution_count": 44,
   "id": "b0896b6b",
   "metadata": {},
   "outputs": [
    {
     "data": {
      "text/plain": [
       "3969"
      ]
     },
     "execution_count": 44,
     "metadata": {},
     "output_type": "execute_result"
    }
   ],
   "source": [
    "funcao_custo(tempera_simulada(dominio,funcao_custo)) #custo da solucao"
   ]
  },
  {
   "cell_type": "code",
   "execution_count": 19,
   "id": "570a1c21",
   "metadata": {},
   "outputs": [
    {
     "name": "stdout",
     "output_type": "stream",
     "text": [
      "    Amanda       CWB 11:16-13:29 R$ 83  6:39- 8:09 R$ 86\n",
      "     Pedro       GIG  6:12-10:22 R$230 14:20-17:32 R$332\n",
      "    Marcos       POA 10:53-13:36 R$189  8:19-11:16 R$122\n",
      "  Priscila       FLN  9:15-12:29 R$225  6:33- 9:14 R$172\n",
      "     Jessy       CNF  9:42-11:32 R$169  7:50-10:08 R$164\n",
      "     Paulo       GYN  9:15-12:03 R$ 99  8:04-10:59 R$136\n"
     ]
    }
   ],
   "source": [
    "imprimir_agenda(tempera(dominio,funcao_custo))"
   ]
  },
  {
   "cell_type": "markdown",
   "id": "1ed09ebc",
   "metadata": {},
   "source": [
    "### Algoritmo Genético\n",
    "Este algoritmo realiza combinação entre soluções ou mutação em um dos índices da solução"
   ]
  },
  {
   "cell_type": "code",
   "execution_count": 45,
   "id": "7899b50e",
   "metadata": {},
   "outputs": [],
   "source": [
    "def mutacao(dominio,passo,solucao): #função que muta um dos indices da solução de acordo com probabilidades aleatorias\n",
    "    i=random.randint(0,len(dominio)-1)\n",
    "    mutante=solucao\n",
    "    if random.random()<0.5: \n",
    "        if solucao[i]!=dominio[i][0]:\n",
    "            mutante=solucao[0:i]+[solucao[i]-passo]+solucao[i+1:] #Se o indice da solução for diferente de 0, decrementamos 1\n",
    "    else:\n",
    "        if solucao[i]!=dominio[i][1]:\n",
    "            mutante=solucao[0:i]+[solucao[i]+passo]+solucao[i+1:]#Se o indice da solução for diferente de 9, incrementamos 1\n",
    "    return mutante #retorna solução modificada\n",
    "        "
   ]
  },
  {
   "cell_type": "code",
   "execution_count": 46,
   "id": "3c149e3b",
   "metadata": {},
   "outputs": [
    {
     "data": {
      "text/plain": [
       "[3, 0, 2, 7, 3, 1, 2, 0, 2, 1, 3, 1]"
      ]
     },
     "execution_count": 46,
     "metadata": {},
     "output_type": "execute_result"
    }
   ],
   "source": [
    "solucao_exemplo=[3, 0, 2, 7, 3, 1, 2, 0, 2, 1, 2, 1] #Exemplo\n",
    "mutacao(dominio,1,solucao_exemplo)"
   ]
  },
  {
   "cell_type": "code",
   "execution_count": 47,
   "id": "e527310d",
   "metadata": {},
   "outputs": [],
   "source": [
    "def cruzamento(dominio,solucao1,solucao2): #Combina duas soluções\n",
    "    i=random.randint(1,len(dominio)-2)\n",
    "    return solucao1[0:i]+solucao2[i:]\n"
   ]
  },
  {
   "cell_type": "code",
   "execution_count": 48,
   "id": "9096d7d1",
   "metadata": {},
   "outputs": [],
   "source": [
    "def genetico(dominio,funcao_custo,tamanho_populacao=150,passo=1,probabilidade_mutacao=0.2,elitismo=0.2,geracoes=2000):\n",
    "    populacao=[]\n",
    "    for i in range(tamanho_populacao): #iniciamos com uma populaçao de 150 soluções aleatorias\n",
    "        solucao=[random.randint(dominio[i][0],dominio[i][1]) for i in range(len(dominio))]\n",
    "        populacao.append(solucao)\n",
    "    numero_elitismo=int(elitismo*tamanho_populacao) #20% das soluções\n",
    "    for i in range(geracoes): #testamos 2000 gerações\n",
    "        custos=[(funcao_custo(individuo),individuo) for individuo in populacao] #criamos uma lista com itens (custo, solução)\n",
    "        custos.sort()#ordenamos os custos\n",
    "        individuos_ordenados=[individuo for (custo,individuo) in custos]#pego as soluções ordenadas\n",
    "        populacao=individuos_ordenados[0:numero_elitismo]#pego 20% das soluções, das melhores neste caso\n",
    "        \n",
    "        while len(populacao)<tamanho_populacao: #enquanto os 20% evoluem até chegar ao tamanho 150 individuos\n",
    "            if random.random()<probabilidade_mutacao: #probabildiade de mutação = 20%\n",
    "                m=random.randint(0,numero_elitismo) \n",
    "                populacao.append(mutacao(dominio,1,individuos_ordenados[m]))#seleciona um individuo entre os 20% e aplica mutação\n",
    "            else:\n",
    "                c1=random.randint(0,numero_elitismo)\n",
    "                c2=random.randint(0,numero_elitismo)\n",
    "                if c1!=c2: #pegamos duas soluções diferentes entre os 20% e combinamos\n",
    "                    populacao.append(cruzamento(dominio,individuos_ordenados[c1],individuos_ordenados[c2]))\n",
    "    return custos[0][1]  #Retornar a solução de menor custo                 \n",
    "        "
   ]
  },
  {
   "cell_type": "code",
   "execution_count": 49,
   "id": "5bf88de6",
   "metadata": {},
   "outputs": [
    {
     "data": {
      "text/plain": [
       "[4, 3, 3, 3, 4, 3, 3, 4, 4, 3, 4, 3]"
      ]
     },
     "execution_count": 49,
     "metadata": {},
     "output_type": "execute_result"
    }
   ],
   "source": [
    "solucao_algoritmo_genetico=genetico(dominio,funcao_custo)\n",
    "solucao_algoritmo_genetico"
   ]
  },
  {
   "cell_type": "code",
   "execution_count": 53,
   "id": "2d44ae82",
   "metadata": {},
   "outputs": [
    {
     "name": "stdout",
     "output_type": "stream",
     "text": [
      "2356. A melhor solução até o momento!!!\n"
     ]
    }
   ],
   "source": [
    "print(f'{funcao_custo(solucao_algoritmo_genetico)}. A melhor solução até o momento!!!')"
   ]
  },
  {
   "cell_type": "code",
   "execution_count": 54,
   "id": "44bdc958",
   "metadata": {
    "scrolled": true
   },
   "outputs": [
    {
     "name": "stdout",
     "output_type": "stream",
     "text": [
      "    Amanda       CWB 12:34-15:02 R$109 10:33-12:03 R$ 74\n",
      "     Pedro       GIG 10:30-14:57 R$290 10:51-14:16 R$256\n",
      "    Marcos       POA 12:08-14:59 R$149 10:32-13:16 R$139\n",
      "  Priscila       FLN 11:28-14:40 R$248 12:37-15:05 R$170\n",
      "     Jessy       CNF 12:44-14:17 R$134 10:33-13:11 R$132\n",
      "     Paulo       GYN 12:18-14:56 R$172 11:07-13:24 R$171\n"
     ]
    }
   ],
   "source": [
    "imprimir_agenda(solucao_algoritmo_genetico)"
   ]
  }
 ],
 "metadata": {
  "kernelspec": {
   "display_name": "Python 3 (ipykernel)",
   "language": "python",
   "name": "python3"
  },
  "language_info": {
   "codemirror_mode": {
    "name": "ipython",
    "version": 3
   },
   "file_extension": ".py",
   "mimetype": "text/x-python",
   "name": "python",
   "nbconvert_exporter": "python",
   "pygments_lexer": "ipython3",
   "version": "3.10.4"
  }
 },
 "nbformat": 4,
 "nbformat_minor": 5
}
